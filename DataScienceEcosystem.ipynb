{
 "cells": [
  {
   "cell_type": "markdown",
   "id": "1c9c6165",
   "metadata": {},
   "source": [
    "# Data Science Tools and Ecosystem"
   ]
  },
  {
   "cell_type": "markdown",
   "id": "6ee767da",
   "metadata": {},
   "source": [
    "In this notebook, Data Science Tools and Ecosystem are summarized."
   ]
  },
  {
   "cell_type": "markdown",
   "id": "6530a61e",
   "metadata": {},
   "source": [
    "**Objectives:**\n",
    "\n",
    "* List popular languages for Data Science\n",
    "* List the commonly used libraries\n",
    "* Examples of evaluating arithmetic expressions in Python\n",
    "* List Data Science Tools"
   ]
  },
  {
   "cell_type": "markdown",
   "id": "8d2fe0df",
   "metadata": {},
   "source": [
    "Some of the popular languages that Data Scientists use are:\n",
    "\n",
    "1. R\n",
    "2. python\n",
    "3. SQL\n",
    "4. java\n",
    "\n",
    "\n",
    "\n"
   ]
  },
  {
   "cell_type": "markdown",
   "id": "9fe02fa9",
   "metadata": {},
   "source": [
    "Some of the commonly used libraries used by Data Scientists include:\n",
    "\n",
    "* numpy\n",
    "* pandas\n",
    "* Plotly\n",
    "* Scikit-Learn\n"
   ]
  },
  {
   "cell_type": "markdown",
   "id": "e0021acf",
   "metadata": {},
   "source": [
    "|Data Science Tools|\n",
    "|------------------|\n",
    "|Jupyter Notebooks|\n",
    "|RStudio|\n",
    "|IBM SPSS|\n",
    "|Pytorch|"
   ]
  },
  {
   "cell_type": "markdown",
   "id": "348f733e",
   "metadata": {},
   "source": [
    "### Below are a few examples of evaluating arithmetic expressions in Python"
   ]
  },
  {
   "cell_type": "code",
   "execution_count": 5,
   "id": "89ceb7e1",
   "metadata": {},
   "outputs": [
    {
     "data": {
      "text/plain": [
       "17"
      ]
     },
     "execution_count": 5,
     "metadata": {},
     "output_type": "execute_result"
    }
   ],
   "source": [
    "# This a simple arithmetic expression to mutiply then add integers\n",
    "\n",
    "(3*4)+5"
   ]
  },
  {
   "cell_type": "code",
   "execution_count": 6,
   "id": "350703bb",
   "metadata": {},
   "outputs": [
    {
     "data": {
      "text/plain": [
       "3.3333333333333335"
      ]
     },
     "execution_count": 6,
     "metadata": {},
     "output_type": "execute_result"
    }
   ],
   "source": [
    "#  This will convert 200 minutes to hours by diving by 60\n",
    "\n",
    "\n",
    "200/60"
   ]
  },
  {
   "cell_type": "markdown",
   "id": "542b95ad",
   "metadata": {},
   "source": [
    "## Author\n",
    "Juan Carlos Arriagada"
   ]
  },
  {
   "cell_type": "code",
   "execution_count": null,
   "id": "776ddd6f",
   "metadata": {},
   "outputs": [],
   "source": []
  }
 ],
 "metadata": {
  "kernelspec": {
   "display_name": "Python 3 (ipykernel)",
   "language": "python",
   "name": "python3"
  },
  "language_info": {
   "codemirror_mode": {
    "name": "ipython",
    "version": 3
   },
   "file_extension": ".py",
   "mimetype": "text/x-python",
   "name": "python",
   "nbconvert_exporter": "python",
   "pygments_lexer": "ipython3",
   "version": "3.11.7"
  }
 },
 "nbformat": 4,
 "nbformat_minor": 5
}
